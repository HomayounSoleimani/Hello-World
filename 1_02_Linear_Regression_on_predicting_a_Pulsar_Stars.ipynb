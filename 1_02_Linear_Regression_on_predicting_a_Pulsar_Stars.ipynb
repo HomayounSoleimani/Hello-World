{
  "nbformat": 4,
  "nbformat_minor": 0,
  "metadata": {
    "colab": {
      "name": "1-02 Linear Regression on predicting a Pulsar Stars.ipynb",
      "version": "0.3.2",
      "provenance": [],
      "collapsed_sections": [],
      "include_colab_link": true
    },
    "language_info": {
      "codemirror_mode": {
        "name": "ipython",
        "version": 3
      },
      "file_extension": ".py",
      "mimetype": "text/x-python",
      "name": "python",
      "nbconvert_exporter": "python",
      "pygments_lexer": "ipython3",
      "version": "3.6.1"
    },
    "kernelspec": {
      "display_name": "Python 3",
      "language": "python",
      "name": "python3"
    }
  },
  "cells": [
    {
      "cell_type": "markdown",
      "metadata": {
        "id": "view-in-github",
        "colab_type": "text"
      },
      "source": [
        "<a href=\"https://colab.research.google.com/github/HomayounSoleimani/Python-for-Machine-Learning-and-Artificial-Neural-Networks/blob/master/1_02_Linear_Regression_on_predicting_a_Pulsar_Stars.ipynb\" target=\"_parent\"><img src=\"https://colab.research.google.com/assets/colab-badge.svg\" alt=\"Open In Colab\"/></a>"
      ]
    },
    {
      "cell_type": "markdown",
      "metadata": {
        "id": "I37-_VbdmnQN",
        "colab_type": "text"
      },
      "source": [
        "Predicting a pulsar star using linear regression."
      ]
    },
    {
      "cell_type": "code",
      "metadata": {
        "id": "hPwOhFndmnQQ",
        "colab_type": "code",
        "colab": {}
      },
      "source": [
        "import pandas as pd\n",
        "import numpy as np\n",
        "import matplotlib.pyplot as plt\n",
        "%matplotlib inline\n",
        "from sklearn.preprocessing import StandardScaler\n",
        "from sklearn.model_selection import train_test_split\n",
        "from sklearn.linear_model import LinearRegression\n",
        "from sklearn.model_selection import cross_val_score"
      ],
      "execution_count": 0,
      "outputs": []
    },
    {
      "cell_type": "code",
      "metadata": {
        "id": "j7AlssmumnQY",
        "colab_type": "code",
        "colab": {
          "base_uri": "https://localhost:8080/",
          "height": 255
        },
        "outputId": "78aab169-2477-4b12-a581-a13e5d8fb881"
      },
      "source": [
        "heading = [' Mean of the integrated profile', ' Standard deviation of the integrated profile',\n",
        "           ' Excess kurtosis of the integrated profile', 'Skewness of the integrated profile',\n",
        "           ' Mean of the deviation of the DM-SNR curve', ' Standard deviation of deviation of the DM-SNR curve',\n",
        "           ' Excess kurtosis of deviation of the DM-SNR curve', ' Skewness deviation of the DM-SNR curve', 'target_class']\n",
        "           \n",
        "dataset = pd.read_csv('pulsar_stars.csv', names = heading)\n",
        "dataset = dataset.dropna()\n",
        "dataset.head()"
      ],
      "execution_count": 10,
      "outputs": [
        {
          "output_type": "execute_result",
          "data": {
            "text/html": [
              "<div>\n",
              "<style scoped>\n",
              "    .dataframe tbody tr th:only-of-type {\n",
              "        vertical-align: middle;\n",
              "    }\n",
              "\n",
              "    .dataframe tbody tr th {\n",
              "        vertical-align: top;\n",
              "    }\n",
              "\n",
              "    .dataframe thead th {\n",
              "        text-align: right;\n",
              "    }\n",
              "</style>\n",
              "<table border=\"1\" class=\"dataframe\">\n",
              "  <thead>\n",
              "    <tr style=\"text-align: right;\">\n",
              "      <th></th>\n",
              "      <th>Mean of the integrated profile</th>\n",
              "      <th>Standard deviation of the integrated profile</th>\n",
              "      <th>Excess kurtosis of the integrated profile</th>\n",
              "      <th>Skewness of the integrated profile</th>\n",
              "      <th>Mean of the deviation of the DM-SNR curve</th>\n",
              "      <th>Standard deviation of deviation of the DM-SNR curve</th>\n",
              "      <th>Excess kurtosis of deviation of the DM-SNR curve</th>\n",
              "      <th>Skewness deviation of the DM-SNR curve</th>\n",
              "      <th>target_class</th>\n",
              "    </tr>\n",
              "  </thead>\n",
              "  <tbody>\n",
              "    <tr>\n",
              "      <th>0</th>\n",
              "      <td>140.562500</td>\n",
              "      <td>55.683782</td>\n",
              "      <td>-0.234571</td>\n",
              "      <td>-0.699648</td>\n",
              "      <td>3.199833</td>\n",
              "      <td>19.110426</td>\n",
              "      <td>7.975532</td>\n",
              "      <td>74.242225</td>\n",
              "      <td>0</td>\n",
              "    </tr>\n",
              "    <tr>\n",
              "      <th>1</th>\n",
              "      <td>102.507812</td>\n",
              "      <td>58.882430</td>\n",
              "      <td>0.465318</td>\n",
              "      <td>-0.515088</td>\n",
              "      <td>1.677258</td>\n",
              "      <td>14.860146</td>\n",
              "      <td>10.576487</td>\n",
              "      <td>127.393580</td>\n",
              "      <td>0</td>\n",
              "    </tr>\n",
              "    <tr>\n",
              "      <th>2</th>\n",
              "      <td>103.015625</td>\n",
              "      <td>39.341649</td>\n",
              "      <td>0.323328</td>\n",
              "      <td>1.051164</td>\n",
              "      <td>3.121237</td>\n",
              "      <td>21.744669</td>\n",
              "      <td>7.735822</td>\n",
              "      <td>63.171909</td>\n",
              "      <td>0</td>\n",
              "    </tr>\n",
              "    <tr>\n",
              "      <th>3</th>\n",
              "      <td>136.750000</td>\n",
              "      <td>57.178449</td>\n",
              "      <td>-0.068415</td>\n",
              "      <td>-0.636238</td>\n",
              "      <td>3.642977</td>\n",
              "      <td>20.959280</td>\n",
              "      <td>6.896499</td>\n",
              "      <td>53.593661</td>\n",
              "      <td>0</td>\n",
              "    </tr>\n",
              "    <tr>\n",
              "      <th>4</th>\n",
              "      <td>88.726562</td>\n",
              "      <td>40.672225</td>\n",
              "      <td>0.600866</td>\n",
              "      <td>1.123492</td>\n",
              "      <td>1.178930</td>\n",
              "      <td>11.468720</td>\n",
              "      <td>14.269573</td>\n",
              "      <td>252.567306</td>\n",
              "      <td>0</td>\n",
              "    </tr>\n",
              "  </tbody>\n",
              "</table>\n",
              "</div>"
            ],
            "text/plain": [
              "    Mean of the integrated profile  ...  target_class\n",
              "0                       140.562500  ...             0\n",
              "1                       102.507812  ...             0\n",
              "2                       103.015625  ...             0\n",
              "3                       136.750000  ...             0\n",
              "4                        88.726562  ...             0\n",
              "\n",
              "[5 rows x 9 columns]"
            ]
          },
          "metadata": {
            "tags": []
          },
          "execution_count": 10
        }
      ]
    },
    {
      "cell_type": "code",
      "metadata": {
        "id": "mr5pQHytmnQo",
        "colab_type": "code",
        "colab": {
          "base_uri": "https://localhost:8080/",
          "height": 187
        },
        "outputId": "2b0afd4d-466a-492d-8a91-16ce5215b782"
      },
      "source": [
        "# getting X-data\n",
        "X_data = dataset.iloc[:,0:-1].values\n",
        "\n",
        "# Scaling the data\n",
        "scaler = StandardScaler()\n",
        "X_data = scaler.fit_transform(X_data)\n",
        "X_data[0:5]"
      ],
      "execution_count": 11,
      "outputs": [
        {
          "output_type": "execute_result",
          "data": {
            "text/plain": [
              "array([[ 1.14931702,  1.33483164, -0.66956953, -0.400459  , -0.31944026,\n",
              "        -0.37062547, -0.07279778, -0.28743812],\n",
              "       [-0.3341682 ,  1.80226533, -0.01178476, -0.37053549, -0.37110188,\n",
              "        -0.5889241 ,  0.50442694,  0.21158145],\n",
              "       [-0.31437216, -1.05332222, -0.14523256, -0.11659286, -0.32210703,\n",
              "        -0.23532816, -0.12599609, -0.39137346],\n",
              "       [ 1.0006944 ,  1.55325441, -0.51340862, -0.39017809, -0.3044042 ,\n",
              "        -0.27566649, -0.31226539, -0.4813003 ],\n",
              "       [-0.87140244, -0.85887881,  0.11560871, -0.10486616, -0.38801036,\n",
              "        -0.76311112,  1.32402614,  1.38679399]])"
            ]
          },
          "metadata": {
            "tags": []
          },
          "execution_count": 11
        }
      ]
    },
    {
      "cell_type": "code",
      "metadata": {
        "id": "y1zOjFd_mnQz",
        "colab_type": "code",
        "colab": {
          "base_uri": "https://localhost:8080/",
          "height": 34
        },
        "outputId": "e8b44d07-55a1-4e1a-f37c-50d1b7209a08"
      },
      "source": [
        "# Getting Y_data\n",
        "Y_data = dataset.iloc[:,-1].values\n",
        "Y_data[0:5]"
      ],
      "execution_count": 12,
      "outputs": [
        {
          "output_type": "execute_result",
          "data": {
            "text/plain": [
              "array([0, 0, 0, 0, 0])"
            ]
          },
          "metadata": {
            "tags": []
          },
          "execution_count": 12
        }
      ]
    },
    {
      "cell_type": "code",
      "metadata": {
        "id": "E-SLAsqMmnQ3",
        "colab_type": "code",
        "colab": {
          "base_uri": "https://localhost:8080/",
          "height": 34
        },
        "outputId": "a49ed43c-f20d-426b-a566-8b78c865bd76"
      },
      "source": [
        "# printing number of instances of each possible target_class variables\n",
        "unique , counts = np.unique(Y_data, return_counts=True)\n",
        "print(unique, counts)"
      ],
      "execution_count": 13,
      "outputs": [
        {
          "output_type": "stream",
          "text": [
            "[0 1] [16259  1639]\n"
          ],
          "name": "stdout"
        }
      ]
    },
    {
      "cell_type": "code",
      "metadata": {
        "id": "JuaM5dZymnQ7",
        "colab_type": "code",
        "colab": {
          "base_uri": "https://localhost:8080/",
          "height": 34
        },
        "outputId": "b1114688-3594-4450-a044-d7d5becb574e"
      },
      "source": [
        "# Spliting data into training and testing\n",
        "x_train, x_test, y_train, y_test = train_test_split(X_data, Y_data)\n",
        "# Define and fit model to train dataset\n",
        "classifier = LinearRegression()\n",
        "classifier.fit(x_train, y_train)"
      ],
      "execution_count": 15,
      "outputs": [
        {
          "output_type": "execute_result",
          "data": {
            "text/plain": [
              "LinearRegression(copy_X=True, fit_intercept=True, n_jobs=None, normalize=False)"
            ]
          },
          "metadata": {
            "tags": []
          },
          "execution_count": 15
        }
      ]
    },
    {
      "cell_type": "code",
      "metadata": {
        "id": "Hvu3IXS4mnRB",
        "colab_type": "code",
        "colab": {
          "base_uri": "https://localhost:8080/",
          "height": 51
        },
        "outputId": "ddc3c24a-e68a-4840-e42b-0548c9f56f18"
      },
      "source": [
        "print('Score on training data : {:.3f}'.format(classifier.score(x_train, y_train)))\n",
        "print('Score on testing data : {:.3f}'.format(classifier.score(x_test, y_test)))"
      ],
      "execution_count": 18,
      "outputs": [
        {
          "output_type": "stream",
          "text": [
            "Score on training data : 0.671\n",
            "Score on testing data : 0.716\n"
          ],
          "name": "stdout"
        }
      ]
    },
    {
      "cell_type": "code",
      "metadata": {
        "id": "JTdiV3PRmnRI",
        "colab_type": "code",
        "colab": {
          "base_uri": "https://localhost:8080/",
          "height": 34
        },
        "outputId": "2f5d0330-47f1-4b7c-b993-8745ff7ea629"
      },
      "source": [
        "results = cross_val_score(classifier, x_test, y_test, cv =5)\n",
        "print(results)"
      ],
      "execution_count": 19,
      "outputs": [
        {
          "output_type": "stream",
          "text": [
            "[0.76305278 0.73456898 0.69882458 0.68185804 0.69095201]\n"
          ],
          "name": "stdout"
        }
      ]
    },
    {
      "cell_type": "code",
      "metadata": {
        "id": "f64D7xYPmnRM",
        "colab_type": "code",
        "colab": {}
      },
      "source": [
        "# in the best scenario we get an accuracy score of 72.4%"
      ],
      "execution_count": 0,
      "outputs": []
    },
    {
      "cell_type": "code",
      "metadata": {
        "id": "yB_aJWYcmnRP",
        "colab_type": "code",
        "colab": {
          "base_uri": "https://localhost:8080/",
          "height": 295
        },
        "outputId": "df1872d9-ac83-4cfb-e7df-3fd64cf024de"
      },
      "source": [
        "plt.hist(Y_data, bins=3)\n",
        "plt.title(\"Pulsar Star v/s Not Pulsar Star\")\n",
        "plt.xlabel('No of instances')\n",
        "plt.ylabel('Classes')\n",
        "plt.show()"
      ],
      "execution_count": 21,
      "outputs": [
        {
          "output_type": "display_data",
          "data": {
            "image/png": "[encoded data removed]",
            "text/plain": [
              "<Figure size 432x288 with 1 Axes>"
            ]
          },
          "metadata": {
            "tags": []
          }
        }
      ]
    },
    {
      "cell_type": "code",
      "metadata": {
        "id": "5Car9rk9mnRV",
        "colab_type": "code",
        "colab": {}
      },
      "source": [
        ""
      ],
      "execution_count": 0,
      "outputs": []
    }
  ]
}